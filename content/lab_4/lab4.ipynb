{
 "cells": [
  {
   "cell_type": "markdown",
   "id": "f5d21946",
   "metadata": {
    "slideshow": {
     "slide_type": "-"
    }
   },
   "source": [
    "# Lab 4: Error Correction\n",
    "\n",
    "Dynamic circuits also have the potential to greatly help with error correction on quantum computers. If you are not familiar with quantum error correction, don't worry, we will start by introducing the concept with classical data, then apply that approach to quantum computers.\n",
    "\n",
    "Error correction is important for quantum computing, since physical qubits are susceptible to noise. This means we will always have some small probability that errors occur when running our circuits. Error correction will help us deal with those small probabilities and ensure we get the correct results in the end, by correcting the errors as they occur. \n",
    "\n",
    "If you want more information about quantum error correction or some additional exercises, the **[Qiskit Textbook has a great section on the topic](https://learn.qiskit.org/course/quantum-hardware/introduction-to-quantum-error-correction-via-the-repetition-code)**\n",
    "\n",
    "\n",
    "So, let's prepare everything we need and then start."
   ]
  },
  {
   "cell_type": "code",
   "execution_count": 2,
   "id": "ff5a01f6-c357-4d6d-8c86-95991b311231",
   "metadata": {
    "slideshow": {
     "slide_type": "-"
    },
    "tags": []
   },
   "outputs": [],
   "source": [
    "# Importing all the parts we will need.\n",
    "from typing import List, Optional\n",
    "\n",
    "from qiskit import transpile, QuantumCircuit, QuantumRegister, ClassicalRegister, Aer\n",
    "from qiskit.providers.fake_provider import FakeManilaV2\n",
    "from qiskit.visualization import plot_histogram\n",
    "\n",
    "\n",
    "import warnings\n",
    "\n",
    "warnings.filterwarnings(\"ignore\")\n",
    "\n",
    "import math\n",
    "\n",
    "pi = math.pi"
   ]
  },
  {
   "cell_type": "markdown",
   "id": "b0558967-b671-4ff5-9df5-90dadd9295b7",
   "metadata": {
    "slideshow": {
     "slide_type": "-"
    },
    "tags": []
   },
   "source": [
    "## Classical Error Correction\n",
    "\n",
    "\n",
    "Why was error correction created in the first place? \n",
    "\n",
    "Think about talking to someone over the phone when you have bad reception. Despite your best efforts to speak clearly, sometimes the message gets changed or ruined. \"Let's put lunch with Fred on the schedule for Friday\" turns into \"Let's punch Fred on Friday\". Fred's weekend just got a whole lot worse.\n",
    "\n",
    "Whenever you send a message, even one as simple as a bit, there is always the possibility for small errors to occur. If you send one bit of data over a wire, there may be a small chance that the bit is flipped, so instead of a `0` the recipient gets a `1`. This can happen more often if the cable is old and corroded. The same could potentially happen when storing data -- think of a CD getting scratched. In the worst case, errors could even happen during a computation in your processor.\n",
    "\n",
    "The possibility of errors is a known problem for classical information.\n",
    "\n",
    "Let’s imagine that the chance of a bit accidentally being flipped (AKA error to occur) is 10%. This would mean that for each bit of data we send, there is a one-in-ten chance that the bit received is incorrect. You could send a message of `0` ten times, but the received message might read `0001000000`. You can see the problem already. \n",
    "\n",
    "One of the simplest solutions is using some repetition. My bit of data `1` can get encoded as `111`, and likewise a `0` gets encoded as `000`. Each bit of data is now encoded using three bits instead of just one. \n",
    "\n",
    "Why does this help?\n",
    "\n",
    "If we now send `000` and error occurs, then the receiver might see `001`. Since the receiver knows that the _should_ have gotten either `000` or `111`, they could deduce that it was probably `000` that was sent, and a single bit got flipped. Errors, corrected! \n",
    "\n",
    "But what if multiple errors occur? Our message gets turned into `011` and the recipient now assumes we meant to send `111`. True error! By using the repetition, we reduce the chance that that happens, but we don't eliminate it. So how much do we reduce the error rate by, exactly? Let's investigate! \n",
    "\n",
    "You can find the probability yourself on how the errors change with the code below:"
   ]
  },
  {
   "cell_type": "code",
   "execution_count": 3,
   "id": "6a9843d1",
   "metadata": {
    "slideshow": {
     "slide_type": "-"
    },
    "tags": []
   },
   "outputs": [
    {
     "name": "stdout",
     "output_type": "stream",
     "text": [
      "Percent chance the 000 message has one error: 10.0\n",
      "Percent chance the 000 message has 2 or 3 errors: 2.8000\n"
     ]
    }
   ],
   "source": [
    "# Probability for a 000 message to contain one error:\n",
    "p1 = 0.10\n",
    "\n",
    "# Calculating the probability of a message containing 2 or 3 errors:\n",
    "p3 = 3 * p1 * p1 * (1 - p1) + p1 * p1 * p1\n",
    "\n",
    "print(\"Percent chance the 000 message has one error: {}\".format(p1 * 100))\n",
    "print(\"Percent chance the 000 message has 2 or 3 errors: {:.4f}\".format(p3 * 100))"
   ]
  },
  {
   "cell_type": "markdown",
   "id": "c0ec6910-4391-4665-8fc6-86d63f10b2a7",
   "metadata": {
    "slideshow": {
     "slide_type": "-"
    },
    "tags": []
   },
   "source": [
    "By using repetition, we reduce our chance for errors to ruin our message down to only 2.8% of the time (when 2 or more bits are flipped). This is much better than the 10% of the time we'd encounter if only using one bit. However, we just made up the error rate of 10%. You can make up error rates too, try it. Change the `p1` error percentage to see how this would affect the probability for having 2 or more error occurring.\n",
    "\n",
    "Knowing how repetition can help, we could implement a simple program which \"encodes\" the message above. It would transform 1 bit into 3 bits. Then we could also write a simple program to \"decode\" the message as well, taking the 3 bits and turning them back to one. In fact, that sounds like a great first exercise to try:"
   ]
  },
  {
   "cell_type": "markdown",
   "id": "025239bd-de53-46e9-970d-3bff1697d5a9",
   "metadata": {},
   "source": [
    "### Exercise 1\n",
    "\n",
    "As an introduction let’s construct a \"decoder\" which decodes a 3-bit state using the qubits 0, 1, and 2 into a single bit in qubit 4, following the rules below: \n",
    "\n",
    "- 000->0\n",
    "- 001->0\n",
    "- 010->0\n",
    "- 100->0\n",
    "- 111->1\n",
    "- 110->1\n",
    "- 101->1\n",
    "- 011->1\n",
    "\n",
    "_Hint: We only need to flip bits, so gates which introduce a phase are not needed. And we only need **[basic gates](https://qiskit.org/documentation/apidoc/circuit_library.html#standard-gates)**_"
   ]
  },
  {
   "cell_type": "code",
   "execution_count": 26,
   "id": "cf937a74-4e0f-463d-a70c-1aec320b2ff6",
   "metadata": {
    "slideshow": {
     "slide_type": "-"
    },
    "tags": []
   },
   "outputs": [],
   "source": [
    "# Creating a simple decoder for the classical case\n",
    "def create_decoder(qr: QuantumRegister, cr: ClassicalRegister) -> QuantumCircuit:\n",
    "    # Expect a bit being encoded in the first 3 qubits and decode it into the 4th qubit\n",
    "    # Make sure values of the first 3 qubit stays the same\n",
    "\n",
    "    qc = QuantumCircuit(qr, cr)\n",
    "    q0, q1, q2, q3 = qr\n",
    "    (c0,c1) = cr\n",
    "\n",
    "    ####### your code goes here #######\n",
    "    count = 0\n",
    "    qc.measure(q0,c0)\n",
    "    with qc.if_test((c0,1)):\n",
    "        count +=1    \n",
    "    qc.measure(q1,c0)\n",
    "    with qc.if_test((c0,1)):\n",
    "        count +=1 \n",
    "    qc.measure(q2,c0)\n",
    "    with qc.if_test((c0,1)):\n",
    "        count +=1 \n",
    "    if count>1:\n",
    "        qc.x(q3)\n",
    "    \n",
    "    return qc"
   ]
  },
  {
   "cell_type": "markdown",
   "id": "5976ca3f-e439-4c1a-872f-83a191be7be8",
   "metadata": {
    "slideshow": {
     "slide_type": "-"
    },
    "tags": []
   },
   "source": [
    "Let us now check how our decoding would look like for the case we have encoded 1. \n",
    "\n",
    "Try to play around with different inputs (including ones with an error), to play through how your error correcting circuit would behave in these cases. "
   ]
  },
  {
   "cell_type": "code",
   "execution_count": 24,
   "id": "91f217d8-6d6f-4331-bf4a-7edd9b174fd3",
   "metadata": {
    "slideshow": {
     "slide_type": "-"
    },
    "tags": []
   },
   "outputs": [
    {
     "data": {
      "image/png": "[encoded data removed]",
      "text/plain": [
       "<Figure size 413.849x325.08 with 1 Axes>"
      ]
     },
     "execution_count": 24,
     "metadata": {},
     "output_type": "execute_result"
    }
   ],
   "source": [
    "# We expect a bit being encoded in the first 3 qubits and decode it into the 4th qubit\n",
    "qr = QuantumRegister(4)\n",
    "cr = ClassicalRegister(2)\n",
    "\n",
    "q0, q1, q2, q3 = qr\n",
    "c0, c1 = cr\n",
    "\n",
    "# To encode a 1. Change them to test the other encodings.\n",
    "encoder = QuantumCircuit(qr, cr)\n",
    "#encoder.x(q0)\n",
    "#encoder.x(q1)\n",
    "encoder.x(q2)\n",
    "\n",
    "decoder = create_decoder(qr, cr)\n",
    "qc1 = encoder.compose(decoder)\n",
    "qc1.measure(q3,c1)\n",
    "\n",
    "\n",
    "qc1.draw(\"mpl\")"
   ]
  },
  {
   "cell_type": "code",
   "execution_count": 25,
   "id": "29dacef2",
   "metadata": {},
   "outputs": [
    {
     "data": {
      "image/png": "[encoded data removed]",
      "text/plain": [
       "<Figure size 504x360 with 1 Axes>"
      ]
     },
     "execution_count": 25,
     "metadata": {},
     "output_type": "execute_result"
    }
   ],
   "source": [
    "from qiskit import transpile\n",
    "from qiskit_aer import AerSimulator\n",
    "from qiskit.visualization import plot_histogram\n",
    "\n",
    "sim = AerSimulator()\n",
    "transpiled_circuit = transpile(qc1, sim)\n",
    "\n",
    "# run job\n",
    "shots = 1000\n",
    "job = sim.run(transpiled_circuit, shots=shots, dynamic=True)\n",
    "\n",
    "# Get the results and display them\n",
    "exp_result = job.result()\n",
    "exp_counts = exp_result.get_counts()\n",
    "plot_histogram(exp_counts)"
   ]
  },
  {
   "cell_type": "markdown",
   "id": "c40055d3-dff3-4ec1-846e-54b6c9d76d31",
   "metadata": {
    "slideshow": {
     "slide_type": "-"
    }
   },
   "source": [
    "When you think your decoder works correctly, you can test it with the code below:"
   ]
  },
  {
   "cell_type": "code",
   "execution_count": null,
   "id": "0fca614b-2fd3-43b6-86f9-64c19818dcd0",
   "metadata": {
    "slideshow": {
     "slide_type": "-"
    },
    "tags": []
   },
   "outputs": [],
   "source": [
    "# Submit your circuit\n",
    "from qc_grader.challenges.spring_2023 import grade_ex4a\n",
    "\n",
    "grade_ex4a(create_decoder(qr, cr))"
   ]
  },
  {
   "cell_type": "markdown",
   "id": "b4446ede",
   "metadata": {
    "slideshow": {
     "slide_type": "-"
    }
   },
   "source": [
    "# The Quantum Case\n",
    "\n",
    "## What makes the Quantum Case complicated\n",
    "\n",
    "In the classical case having such error correction codes is relatively simple since we can just repeat the bit several times.\n",
    "\n",
    "Of course, also other codes exist, which are more complex, but in the end all codes will have some kinds of redundancy by repeating information.\n",
    "\n",
    "\n",
    "In the quantum case we cannot really do that, for 2 main reasons. \n",
    "\n",
    "1. We cannot copy qubits which is stated by the no cloning theorem\n",
    "\n",
    "2. Measuring a qubit will let its state collapse, which means we be careful when working with entangled qubits\n",
    "\n",
    "\n",
    "This sounds a bit discouraging, but nevertheless, we can still do error correction.\n",
    "\n",
    "However, we will need not only several qubits to store the information (similar as above to repeat it), but also need some additional ancilla qubits, which we use as so called *stabilizers*.\n",
    "\n",
    "The idea is that these ancillas are not itself entangled with the qubits which store the state, however, they still give us hints about possible errors when being measured. \n",
    "\n",
    "\n",
    "We will use two sets of qubits, ones used for the encoding and others used for the stabilizers. "
   ]
  },
  {
   "cell_type": "markdown",
   "id": "d832646a",
   "metadata": {
    "slideshow": {
     "slide_type": "-"
    },
    "tags": []
   },
   "source": [
    "# Implementing a Bit-flip Repetition Code\n",
    "\n",
    "Let’s prepare everything such that we can start with implementing the error correction."
   ]
  },
  {
   "cell_type": "code",
   "execution_count": null,
   "id": "eed2bf5f",
   "metadata": {
    "slideshow": {
     "slide_type": "-"
    },
    "tags": []
   },
   "outputs": [],
   "source": [
    "# Setup a base quantum circuit for our experiments\n",
    "encoding = QuantumRegister(3)\n",
    "stabilizer = QuantumRegister(2)\n",
    "\n",
    "encoding_q0, encoding_q1, encoding_q2 = encoding\n",
    "stabilizer_q0, stabilizer_q1 = stabilizer\n",
    "\n",
    "# Results of the encoding\n",
    "results = ClassicalRegister(3)\n",
    "\n",
    "result_b0, result_b1, result_b2 = results\n",
    "\n",
    "# For measuring the stabilizer\n",
    "syndrome = ClassicalRegister(2)\n",
    "\n",
    "syndrome_b0, syndrome_b1 = syndrome\n",
    "\n",
    "# The actual qubit which is encoded\n",
    "state = encoding[0]\n",
    "\n",
    "# The ancillas used for encoding the state\n",
    "ancillas = encoding[1:]\n",
    "\n",
    "\n",
    "# Initializing\n",
    "def initialize_circuit() -> QuantumCircuit:\n",
    "    return QuantumCircuit(encoding, stabilizer, results, syndrome)"
   ]
  },
  {
   "cell_type": "markdown",
   "id": "52b2eb0e-26fa-4ada-b7e2-2ba17b2bbeee",
   "metadata": {
    "slideshow": {
     "slide_type": "-"
    },
    "tags": []
   },
   "source": [
    "## Initializing the Qubit\n",
    "\n",
    "To protect a quantum state from errors, we must first prepare it.\n",
    "In general we can prepare the state $$|\\Psi_0\\rangle \\rightarrow |\\Psi_1\\rangle = (\\alpha |0\\rangle + \\beta |1\\rangle)$$\n",
    "In the circuit below we prepare the physical state $$|\\Psi_1\\rangle = |1\\rangle$$"
   ]
  },
  {
   "cell_type": "code",
   "execution_count": null,
   "id": "0aabe057",
   "metadata": {
    "slideshow": {
     "slide_type": "-"
    },
    "tags": []
   },
   "outputs": [],
   "source": [
    "initial_state = initialize_circuit()\n",
    "\n",
    "initial_state.x(encoding[0])\n",
    "\n",
    "initial_state.draw(output=\"mpl\")"
   ]
  },
  {
   "cell_type": "markdown",
   "id": "190ee9ca",
   "metadata": {
    "slideshow": {
     "slide_type": "-"
    }
   },
   "source": [
    "## Encoding the Qubit\n",
    "\n",
    "Similar to the classical case we want to use repetition in order to store the initial qubit.\n",
    "\n",
    "So what we want to do is to map our state $|\\Psi_1\\rangle = (\\alpha |0\\rangle + \\beta |1\\rangle)$ using our encoding $U_{en}|\\Psi_0\\rangle$ to the state $ (\\alpha |000\\rangle + \\beta |111\\rangle)$.\n",
    "\n",
    "This state is an entangled state, and when 1 qubit is measured the outcome of the other 2 qubits is also known.\n",
    "\n",
    "Therefore, we will use CX to create this entangled 3 qubit state from the initial 1 qubit state:"
   ]
  },
  {
   "cell_type": "code",
   "execution_count": null,
   "id": "b6b23a0e",
   "metadata": {
    "slideshow": {
     "slide_type": "-"
    },
    "tags": []
   },
   "outputs": [],
   "source": [
    "# Encoding using bit flip code\n",
    "def encode_bit_flip(qc, state, ancillas):\n",
    "    qc.barrier(state, *ancillas)\n",
    "    for ancilla in ancillas:\n",
    "        qc.cx(state, ancilla)\n",
    "    return qc\n",
    "\n",
    "\n",
    "# The circuit encoding our qubit\n",
    "encoding_circuit = encode_bit_flip(initialize_circuit(), state, ancillas)\n",
    "\n",
    "# The circuit including all parts so far\n",
    "complete_circuit = initial_state.compose(encoding_circuit)\n",
    "complete_circuit.draw(output=\"mpl\")"
   ]
  },
  {
   "cell_type": "markdown",
   "id": "6df43ed0",
   "metadata": {
    "slideshow": {
     "slide_type": "-"
    }
   },
   "source": [
    "## Preparing a Decoding Circuit\n",
    "\n",
    "For decoding the original state, we must build a decoder which does the opposite, so a decoder $U_{de}|\\Psi_0\\rangle$ which maps $ (\\alpha |000\\rangle + \\beta |111\\rangle)$. to   $|\\Psi_1\\rangle = (\\alpha |0\\rangle + \\beta |1\\rangle)$ \n",
    "\n",
    "Since it does exactly the opposite, we can invert our encoder:\n",
    "\n",
    "$U_{de} = U_{en}^\\dagger$"
   ]
  },
  {
   "cell_type": "code",
   "execution_count": null,
   "id": "762fcd54",
   "metadata": {
    "slideshow": {
     "slide_type": "-"
    },
    "tags": []
   },
   "outputs": [],
   "source": [
    "# Decoding (doing the reverse)\n",
    "def decode_bit_flip(qc, state, ancillas):\n",
    "    qc.barrier(state, *ancillas)\n",
    "    for ancilla in ancillas:\n",
    "        qc.cx(state, ancilla)\n",
    "    return qc\n",
    "\n",
    "\n",
    "decoding_circuit = decode_bit_flip(initialize_circuit(), state, ancillas)\n",
    "\n",
    "decoding_circuit.draw(output=\"mpl\")"
   ]
  },
  {
   "cell_type": "markdown",
   "id": "d4de93cd",
   "metadata": {
    "slideshow": {
     "slide_type": "-"
    }
   },
   "source": [
    "## Measuring Stabilizers\n",
    "\n",
    "We have seen above that we can entangle a qubit $A$ with another qubit $B$ by using a CX with $A$ as a target and $B$ as the source, (if $B$ was already in superposition or entangled.)\n",
    "\n",
    "Afterwards we can unentangle it again by using another CX on $A$ as the target with either $B$ as the source (or another qubit which is fully entangled and correlated with $A$.)\n",
    "\n",
    "\n",
    "Since we want to measure our stabilizers to get an indication of potential errors which occurred, it is important that they are NOT entangled with the qubits encoding the state.\n",
    "\n",
    "\n",
    "Knowing this fact, it is clear that we need an even number of CX gates applied to each stabilizer. Additional for the stabilizer to be useful, measuring it must tell us if a bit flip error occurred and on which of the 3 encoding qubits it happened."
   ]
  },
  {
   "cell_type": "markdown",
   "id": "19958975",
   "metadata": {},
   "source": [
    "### Exercise 2\n",
    "\n",
    "Compute syndrome bits, such that they can be measured to detect single bitflip errors. We have included code that will measure the syndrome bits and reset the stabilizer qubits to the `0` state.\n",
    "\n",
    "There are different ways to do this, so let’s get a stabilizer with the simplest possible encoding:\n",
    "\n",
    "`00` -> No error occurred \n",
    "\n",
    "`01` -> An error occurred  in qubit 0 (the first qubit)\n",
    "\n",
    "`10` -> An error occurred  in qubit 1 (the second qubit)\n",
    "\n",
    "`11` -> An error occurred  in qubit 2 (the third qubit)\n",
    "\n",
    "\n",
    "*Hint: The 3 encoding qubits should be perfectly correlated, if they are not, in one of them occurred a bit flip error.*"
   ]
  },
  {
   "cell_type": "code",
   "execution_count": null,
   "id": "745a1c3a",
   "metadata": {
    "slideshow": {
     "slide_type": "-"
    },
    "tags": []
   },
   "outputs": [],
   "source": [
    "# Add functions such that the classical bits can be used to see which qubit is flipped in the case a single qubit is flipped.\n",
    "# Use 2 classical bits for it.\n",
    "# 0 = 00 = no qubit flipped\n",
    "# 1 = 01 = first qubit (qubit 0) flipped\n",
    "# 2 = 10 second qubit (qubit 1) flipped\n",
    "# 3 = 11 = third qubit (qubit 2) flipped\n",
    "def measure_syndrome_bit(qc, encoding, stabilizer):\n",
    "    qc.barrier()\n",
    "    encoding_q0, encoding_q1, encoding_q2 = encoding\n",
    "    stabilizer_q0, stabilizer_q1 = stabilizer\n",
    "\n",
    "    ####### your code goes here #######\n",
    "\n",
    "    ####### don't edit the code below #######\n",
    "    qc.barrier()\n",
    "    qc.measure(stabilizer, syndrome)\n",
    "    with qc.if_test((syndrome_b0, 1)):\n",
    "        qc.x(stabilizer_q0)\n",
    "    with qc.if_test((syndrome_b1, 1)):\n",
    "        qc.x(stabilizer_q1)\n",
    "\n",
    "    return qc\n",
    "\n",
    "\n",
    "syndrome_circuit = measure_syndrome_bit(initialize_circuit(), encoding, stabilizer)\n",
    "\n",
    "complete_circuit = initial_state.compose(encoding_circuit).compose(syndrome_circuit)\n",
    "complete_circuit.draw(\"mpl\")"
   ]
  },
  {
   "cell_type": "code",
   "execution_count": null,
   "id": "1f0272fe-43f3-4d5b-b755-58eff1a77f53",
   "metadata": {
    "slideshow": {
     "slide_type": "-"
    },
    "tags": []
   },
   "outputs": [],
   "source": [
    "# Submit your circuit\n",
    "from qc_grader.challenges.spring_2023 import grade_ex4b\n",
    "\n",
    "grade_ex4b(complete_circuit)"
   ]
  },
  {
   "cell_type": "markdown",
   "id": "08fb0e0e",
   "metadata": {
    "slideshow": {
     "slide_type": "-"
    },
    "tags": []
   },
   "source": [
    "## Correcting Errors\n",
    "\n",
    "Now we can construct stabilizers and by measuring them we get the error syndromes. Of course, we do not only want to get indications if an error occurred, but we also want to be able to correct the errors.\n",
    "\n",
    "We will now use dynamic circuits to use our syndrome measurements in order to correct potential errors. Similar to the classical case we can only correct at most 1 error, if we would want to correct more, we would need a longer code with 5 encoding qubits or more.\n",
    "\n",
    "Since we chose our syndrome measurements above in a clever way, it should now be quite easy to correct the errors, since we know exactly which of the qubits is flipped, for the case of a single error."
   ]
  },
  {
   "cell_type": "markdown",
   "id": "e4fafeee",
   "metadata": {},
   "source": [
    "### Exercise 3\n",
    "\n",
    "Correct the errors according to the measured syndromes."
   ]
  },
  {
   "cell_type": "code",
   "execution_count": null,
   "id": "766344ee",
   "metadata": {
    "slideshow": {
     "slide_type": "-"
    },
    "tags": []
   },
   "outputs": [],
   "source": [
    "# Correct the errors, remember how we encoded the errors above!\n",
    "def apply_correction_bit(qc, encoding, syndrome):\n",
    "    qc.barrier()\n",
    "    encoding_q0, encoding_q1, encoding_q2 = encoding\n",
    "\n",
    "    ####### your code goes here #######\n",
    "\n",
    "    return qc\n",
    "\n",
    "\n",
    "correction_circuit = apply_correction_bit(initialize_circuit(), encoding, syndrome)\n",
    "complete_circuit = (\n",
    "    initial_state.compose(encoding_circuit)\n",
    "    .compose(syndrome_circuit)\n",
    "    .compose(correction_circuit)\n",
    ")\n",
    "complete_circuit.draw(output=\"mpl\")"
   ]
  },
  {
   "cell_type": "markdown",
   "id": "951cb84e-c526-4f0b-900e-461ec8833b58",
   "metadata": {
    "slideshow": {
     "slide_type": "-"
    },
    "tags": []
   },
   "source": [
    "The only part which is missing now is measuring the encoding qubits. We'll apply the decoder circuit before measuring to recover the initial state.\n",
    "\n",
    "If everything works perfectly with no errors, it would be enough to only measure our initial qubit, however, since this is not always the case we measure all qubits to see if something wrong happened."
   ]
  },
  {
   "cell_type": "code",
   "execution_count": null,
   "id": "f023afd0",
   "metadata": {
    "slideshow": {
     "slide_type": "-"
    },
    "tags": []
   },
   "outputs": [],
   "source": [
    "def apply_final_readout(qc, encoding, results):\n",
    "    qc.barrier(encoding)\n",
    "    qc.measure(encoding, results)\n",
    "    return qc\n",
    "\n",
    "\n",
    "measuring_circuit = apply_final_readout(initialize_circuit(), encoding, results)\n",
    "complete_circuit = (\n",
    "    initial_state.compose(encoding_circuit)\n",
    "    .compose(syndrome_circuit)\n",
    "    .compose(correction_circuit)\n",
    "    .compose(decoding_circuit)\n",
    "    .compose(measuring_circuit)\n",
    ")\n",
    "complete_circuit.draw(output=\"mpl\")"
   ]
  },
  {
   "cell_type": "code",
   "execution_count": null,
   "id": "e05fb14d",
   "metadata": {},
   "outputs": [],
   "source": [
    "# Submit your circuit\n",
    "from qc_grader.challenges.spring_2023 import grade_ex4c\n",
    "\n",
    "grade_ex4c(complete_circuit)"
   ]
  },
  {
   "cell_type": "markdown",
   "id": "f5b9e670-658a-4e25-84cd-7bcbbe8db364",
   "metadata": {
    "slideshow": {
     "slide_type": "-"
    }
   },
   "source": [
    "## Ready for Testing\n",
    "\n",
    "Now that we have everything we can test if we get the correct output. \n",
    "\n",
    "We will do a first test without any errors to make sure that the implementation was correct:"
   ]
  },
  {
   "cell_type": "code",
   "execution_count": null,
   "id": "048a9595-3b32-4f2b-8d37-b1d70870e34d",
   "metadata": {},
   "outputs": [],
   "source": [
    "# We first choose a simulator as our backend without any noise\n",
    "backend = Aer.get_backend(\"qasm_simulator\")\n",
    "# We run the simulation and get the counts\n",
    "counts = backend.run(complete_circuit, shots=1000).result().get_counts()\n",
    "# And now we plot a histogram to see the possible outcomes and corresponding probabilities\n",
    "plot_histogram(counts)"
   ]
  },
  {
   "cell_type": "markdown",
   "id": "991e7fef-4da3-4294-9e2d-1601dc789550",
   "metadata": {
    "slideshow": {
     "slide_type": "-"
    }
   },
   "source": [
    "We can see that we get the correct results (it should give `00 001`, since we initialized our initial qubit in the state 1).\n",
    "\n",
    "As you can see the other qubits used in the encoding are in the `0` state after the process as expected.\n",
    "\n",
    "\n",
    "Now we know that our circuit works without noise, so let's add some noise! \n",
    "\n",
    "For this we take a simulator which simulates the ibm_manila backend including noise:\n",
    "\n",
    "*Note: We choose this backend here, since it has a simple layout. We will take a closer look at layouts further below.*"
   ]
  },
  {
   "cell_type": "code",
   "execution_count": null,
   "id": "0aabb821-8a40-404a-88c7-9d598917e227",
   "metadata": {},
   "outputs": [],
   "source": [
    "# We choose a simulator for Manila a 5 qubit device, includes errors\n",
    "backend = FakeManilaV2()\n",
    "# We run the simulation and get the counts\n",
    "counts = backend.run(complete_circuit, shots=1000).result().get_counts()\n",
    "# We plot a histogram to see the possible outcomes and corresponding probabilities\n",
    "plot_histogram(counts)"
   ]
  },
  {
   "cell_type": "markdown",
   "id": "b367a774-e01a-4d99-ae0d-c789da438657",
   "metadata": {
    "slideshow": {
     "slide_type": "-"
    }
   },
   "source": [
    "We will get some wrong results, but overall, most results are correct. This is a good sign and means even with noise our code can work.\n",
    "\n",
    "Still, this does not tell us how good our scheme is, since we do not have a comparison to the case without error correction, so lets take a look on how good we would be without the error correction steps:"
   ]
  },
  {
   "cell_type": "code",
   "execution_count": null,
   "id": "3b50cd3b-46b3-4793-87ca-a1a6dd34de51",
   "metadata": {},
   "outputs": [],
   "source": [
    "qc3 = (\n",
    "    initial_state.compose(encoding_circuit)\n",
    "    .compose(syndrome_circuit)\n",
    "    .compose(decoding_circuit)\n",
    "    .compose(measuring_circuit)\n",
    ")\n",
    "\n",
    "\n",
    "# We choose a again FakeManila\n",
    "backend = FakeManilaV2()\n",
    "# let the simulation run\n",
    "counts = backend.run(qc3, shots=1000).result().get_counts()\n",
    "# and plot our results\n",
    "plot_histogram(counts)"
   ]
  },
  {
   "cell_type": "markdown",
   "id": "81d87aa5-c38c-48e9-8959-5deb27040f88",
   "metadata": {
    "slideshow": {
     "slide_type": "-"
    }
   },
   "source": [
    "We can see that the results are about the same, or even slightly worse since we do not use the encoding qubits after they are created.\n",
    "\n",
    "When we would use these qubits for calculations, normally some errors would be introduced, this is not the case here.\n",
    "\n",
    "On the other hand, the error correcting part can introduce errors, since it consists also of operations which take time.\n",
    "\n",
    "For testing purposes, we build a circuit, which introduces some errors, but in a controlled way:\n",
    "\n",
    "- We want to introduce bit flip errors, since that is what we are correcting\n",
    "\n",
    "- We want that the errors on the 3 encoding qubits are independent of each other\n",
    "\n",
    "- We want that we can choose how high the probability is that errors are introduced\n",
    "\n",
    "- We want to have our input in percentage, and the output should be a circuit which generates errors with that probability."
   ]
  },
  {
   "cell_type": "markdown",
   "id": "fc0bf2cb",
   "metadata": {},
   "source": [
    "### Exercise 4\n",
    "Create a circuit to add noise as defined above."
   ]
  },
  {
   "cell_type": "code",
   "execution_count": null,
   "id": "6f733f60-384f-4b91-a4dc-da7d3685c0d2",
   "metadata": {
    "slideshow": {
     "slide_type": "-"
    },
    "tags": []
   },
   "outputs": [],
   "source": [
    "# Add some errors as defined above (only add errors to the encoding qubits)\n",
    "def make_some_noise(qc, encoding, syndrome, error_percentage):\n",
    "    encoding_q0, encoding_q1, encoding_q2 = encoding\n",
    "    syndrome_b0, syndrome_b1 = syndrome\n",
    "\n",
    "    ####### your code goes here #######\n",
    "\n",
    "    return qc\n",
    "\n",
    "\n",
    "# Constructing a circuit with 10% error rate (for each of the encoding qubit)\n",
    "noise_circuit = make_some_noise(initialize_circuit(), encoding, syndrome, 10)\n",
    "noise_circuit.draw(output=\"mpl\")"
   ]
  },
  {
   "cell_type": "markdown",
   "id": "9de72551-34a4-4a29-8c31-ee9a07b86e33",
   "metadata": {
    "slideshow": {
     "slide_type": "-"
    }
   },
   "source": [
    "Use the code below to test your function create a circuit introducing a 10% error rate."
   ]
  },
  {
   "cell_type": "code",
   "execution_count": null,
   "id": "2f8bcbbb-7c84-401e-8f45-4f211edfd1e9",
   "metadata": {
    "slideshow": {
     "slide_type": "-"
    },
    "tags": []
   },
   "outputs": [],
   "source": [
    "# Submit your circuit\n",
    "from qc_grader.challenges.spring_2023 import grade_ex4d\n",
    "\n",
    "grade_ex4d(noise_circuit)"
   ]
  },
  {
   "cell_type": "markdown",
   "id": "97266500-1121-4e5a-a11c-262fc4f68b40",
   "metadata": {
    "slideshow": {
     "slide_type": "-"
    }
   },
   "source": [
    "We can now test how good our error correction works, when we introduce errors with a 10% probability:"
   ]
  },
  {
   "cell_type": "code",
   "execution_count": null,
   "id": "37120ccc-33c6-4d54-b960-ad1e4d19dc64",
   "metadata": {},
   "outputs": [],
   "source": [
    "qc4 = (\n",
    "    initial_state.compose(encoding_circuit)\n",
    "    .compose(noise_circuit)\n",
    "    .compose(syndrome_circuit)\n",
    "    .compose(correction_circuit)\n",
    "    .compose(decoding_circuit)\n",
    "    .compose(measuring_circuit)\n",
    ")\n",
    "\n",
    "\n",
    "# We choose again FakeManila\n",
    "backend = FakeManilaV2()\n",
    "# let the simulation run\n",
    "counts = backend.run(qc4, shots=1000).result().get_counts()\n",
    "# and plot our results\n",
    "plot_histogram(counts)"
   ]
  },
  {
   "cell_type": "markdown",
   "id": "c90c1616-e079-4c1f-bb57-fe5fc28d04e4",
   "metadata": {
    "slideshow": {
     "slide_type": "-"
    }
   },
   "source": [
    "We can see that our results got worse, but we still get `001` in most cases. \n",
    "\n",
    "We now have successfully made our first error correction code and even tested it.\n",
    "\n",
    "\n",
    "Our kind of error correction does of course only correct bit flip errors, if we also want to correct phase errors, we will need a different scheme and more qubits.\n",
    "\n",
    "If you want to learn more about error correction you can also look at: \n",
    "\n",
    "https://learn.qiskit.org/course/ch-labs/lab-10-quantum-error-correction"
   ]
  },
  {
   "cell_type": "markdown",
   "id": "28cdcebe-0915-4243-a116-f3a2c826b2ae",
   "metadata": {
    "slideshow": {
     "slide_type": "-"
    }
   },
   "source": [
    "# Short Outlook: Error Correction and Hardware Layout\n",
    "\n",
    "We have used a simulator above, which already simulates the hardware, still if we want to run something more complex on a real device, we will also have to take the layout into consideration.\n",
    "\n",
    "The layout of the device is important, since not all qubits are connected with each other, as in the ideal case, so we have to think about that, else a lot of swap operations will be used, which consist of 3 cx operations, which of course can also introduce errors.\n",
    "\n",
    "\n",
    "\n",
    "Suppose we have the following line of qubits on our actual device\n",
    "\n",
    "    0 - 1 - 2 - 3 - 4 \n",
    "\n",
    "How would one map these physical qubits to the logical qubits we used above in our error correcting circuit?)  \n",
    "\n",
    "We assume here that the initial connecting of the qubits (entangling them) is \"easier\" than the error correction parts, since we might want to repeat the error correcting part several times, so only considering the error correction part how would you map these qubits?\n",
    "\n",
    "\n",
    "\n",
    "With the code below you can see how different layouts can lead to different circuits.\n",
    "\n"
   ]
  },
  {
   "cell_type": "code",
   "execution_count": null,
   "id": "aa2aa857-e78f-4e1a-8d59-17e6fc889ddd",
   "metadata": {
    "slideshow": {
     "slide_type": "-"
    },
    "tags": []
   },
   "outputs": [],
   "source": [
    "from qiskit.circuit import IfElseOp\n",
    "\n",
    "# Fill in a better layout to test!!\n",
    "initial_layout = [0, 1, 2, 3, 4]\n",
    "\n",
    "# We use Manila as our potential backend, since it has the wanted layout\n",
    "backend = FakeManilaV2()\n",
    "\n",
    "# Temporary workaround for fake backends. For real backends this is not required.\n",
    "backend.target.add_instruction(IfElseOp, name=\"if_else\")\n",
    "\n",
    "# And now we transpile the circuit for the backend.\n",
    "qc_transpiled = transpile(complete_circuit, backend, initial_layout=initial_layout)\n",
    "\n",
    "qc_transpiled.draw()"
   ]
  },
  {
   "cell_type": "markdown",
   "id": "3b331381-37d8-44d0-a653-6a2f0e59599e",
   "metadata": {
    "slideshow": {
     "slide_type": "-"
    }
   },
   "source": [
    "No layout is perfect, especially since in the beginning to entangle the 3 qubits we need different connections than later for the error correction.\n",
    "\n",
    "\n",
    "\n",
    "The layout [0, 4, 2, 1, 3] could sense, since then we have direct connections for all needed CX for the correction, and that part is potentially run several times.\n",
    "\n",
    "We could also think about how we could do the initial setup (entangling) better with these qubits, since we could also use the qubits which are used as stabilizers first to construct the circuit.\n",
    "\n",
    "\n",
    "\n",
    "To show you that it can also be quite different let's look at the following layout how would you map the qubits? \n",
    "\n",
    "\n",
    "    2 - 3 - 4 \n",
    "            |\n",
    "           15\n",
    "            |\n",
    "           22\n",
    "\n",
    "Similar to above the layout [2, 4, 22, 3, 15] would make the sense, since then we have again direct connections for all needed CX\n",
    "\n",
    "We can see that there is not really a difference between these layouts, since both layouts are a simple line. If you would, however, look at the backend IBM_Quito you can see, that there are also other 5 qubit devices. We chose Manila since its layout is better suited for this exercise.\n",
    "\n",
    "\n",
    "These small examples should show that on actual hardware you must take care of the layout of the qubits!\n",
    "\n",
    "**This will be especially important in the bonus exercise!**"
   ]
  }
 ],
 "metadata": {
  "celltoolbar": "Slideshow",
  "kernelspec": {
   "display_name": "Python 3 (ipykernel)",
   "language": "python",
   "name": "python3"
  },
  "language_info": {
   "codemirror_mode": {
    "name": "ipython",
    "version": 3
   },
   "file_extension": ".py",
   "mimetype": "text/x-python",
   "name": "python",
   "nbconvert_exporter": "python",
   "pygments_lexer": "ipython3",
   "version": "3.9.7"
  },
  "vscode": {
   "interpreter": {
    "hash": "31f2aee4e71d21fbe5cf8b01ff0e069b9275f58929596ceb00d14d90e3e16cd6"
   }
  },
  "widgets": {
   "application/vnd.jupyter.widget-state+json": {
    "state": {},
    "version_major": 2,
    "version_minor": 0
   }
  }
 },
 "nbformat": 4,
 "nbformat_minor": 5
}
